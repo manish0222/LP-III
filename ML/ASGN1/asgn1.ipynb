{
 "cells": [
  {
   "cell_type": "markdown",
   "id": "ca10da24",
   "metadata": {},
   "source": [
    "# Asgn1\n",
    "## Predict the price of the Uber ride from a given pickup point to the agreed drop-off location.\n",
    "## Perform following tasks:\n",
    "1. Pre-process the dataset.\n",
    "2. Identify outliers.\n",
    "3. Check the correlation.\n",
    "4. Implement linear regression and random forest regression models.\n",
    "5. Evaluate the models and compare their respective scores like R2, RMSE, etc.\n",
    "Dataset link: https://www.kaggle.com/datasets/yasserh/uber-fares-dataset\n"
   ]
  },
  {
   "cell_type": "code",
   "execution_count": 2,
   "id": "a860eab4",
   "metadata": {},
   "outputs": [],
   "source": [
    "import numpy as np\n",
    "import pandas as pd\n",
    "import seaborn as sns\n",
    "from scipy import stats"
   ]
  },
  {
   "cell_type": "code",
   "execution_count": 3,
   "id": "42f4b2f1",
   "metadata": {},
   "outputs": [
    {
     "data": {
      "text/html": [
       "<div>\n",
       "<style scoped>\n",
       "    .dataframe tbody tr th:only-of-type {\n",
       "        vertical-align: middle;\n",
       "    }\n",
       "\n",
       "    .dataframe tbody tr th {\n",
       "        vertical-align: top;\n",
       "    }\n",
       "\n",
       "    .dataframe thead th {\n",
       "        text-align: right;\n",
       "    }\n",
       "</style>\n",
       "<table border=\"1\" class=\"dataframe\">\n",
       "  <thead>\n",
       "    <tr style=\"text-align: right;\">\n",
       "      <th></th>\n",
       "      <th>Unnamed: 0</th>\n",
       "      <th>key</th>\n",
       "      <th>fare_amount</th>\n",
       "      <th>pickup_datetime</th>\n",
       "      <th>pickup_longitude</th>\n",
       "      <th>pickup_latitude</th>\n",
       "      <th>dropoff_longitude</th>\n",
       "      <th>dropoff_latitude</th>\n",
       "      <th>passenger_count</th>\n",
       "    </tr>\n",
       "  </thead>\n",
       "  <tbody>\n",
       "    <tr>\n",
       "      <th>0</th>\n",
       "      <td>24238194</td>\n",
       "      <td>2015-05-07 19:52:06.0000003</td>\n",
       "      <td>7.5</td>\n",
       "      <td>2015-05-07 19:52:06 UTC</td>\n",
       "      <td>-73.999817</td>\n",
       "      <td>40.738354</td>\n",
       "      <td>-73.999512</td>\n",
       "      <td>40.723217</td>\n",
       "      <td>1</td>\n",
       "    </tr>\n",
       "    <tr>\n",
       "      <th>1</th>\n",
       "      <td>27835199</td>\n",
       "      <td>2009-07-17 20:04:56.0000002</td>\n",
       "      <td>7.7</td>\n",
       "      <td>2009-07-17 20:04:56 UTC</td>\n",
       "      <td>-73.994355</td>\n",
       "      <td>40.728225</td>\n",
       "      <td>-73.994710</td>\n",
       "      <td>40.750325</td>\n",
       "      <td>1</td>\n",
       "    </tr>\n",
       "    <tr>\n",
       "      <th>2</th>\n",
       "      <td>44984355</td>\n",
       "      <td>2009-08-24 21:45:00.00000061</td>\n",
       "      <td>12.9</td>\n",
       "      <td>2009-08-24 21:45:00 UTC</td>\n",
       "      <td>-74.005043</td>\n",
       "      <td>40.740770</td>\n",
       "      <td>-73.962565</td>\n",
       "      <td>40.772647</td>\n",
       "      <td>1</td>\n",
       "    </tr>\n",
       "    <tr>\n",
       "      <th>3</th>\n",
       "      <td>25894730</td>\n",
       "      <td>2009-06-26 08:22:21.0000001</td>\n",
       "      <td>5.3</td>\n",
       "      <td>2009-06-26 08:22:21 UTC</td>\n",
       "      <td>-73.976124</td>\n",
       "      <td>40.790844</td>\n",
       "      <td>-73.965316</td>\n",
       "      <td>40.803349</td>\n",
       "      <td>3</td>\n",
       "    </tr>\n",
       "    <tr>\n",
       "      <th>4</th>\n",
       "      <td>17610152</td>\n",
       "      <td>2014-08-28 17:47:00.000000188</td>\n",
       "      <td>16.0</td>\n",
       "      <td>2014-08-28 17:47:00 UTC</td>\n",
       "      <td>-73.925023</td>\n",
       "      <td>40.744085</td>\n",
       "      <td>-73.973082</td>\n",
       "      <td>40.761247</td>\n",
       "      <td>5</td>\n",
       "    </tr>\n",
       "    <tr>\n",
       "      <th>5</th>\n",
       "      <td>44470845</td>\n",
       "      <td>2011-02-12 02:27:09.0000006</td>\n",
       "      <td>4.9</td>\n",
       "      <td>2011-02-12 02:27:09 UTC</td>\n",
       "      <td>-73.969019</td>\n",
       "      <td>40.755910</td>\n",
       "      <td>-73.969019</td>\n",
       "      <td>40.755910</td>\n",
       "      <td>1</td>\n",
       "    </tr>\n",
       "    <tr>\n",
       "      <th>6</th>\n",
       "      <td>48725865</td>\n",
       "      <td>2014-10-12 07:04:00.0000002</td>\n",
       "      <td>24.5</td>\n",
       "      <td>2014-10-12 07:04:00 UTC</td>\n",
       "      <td>-73.961447</td>\n",
       "      <td>40.693965</td>\n",
       "      <td>-73.871195</td>\n",
       "      <td>40.774297</td>\n",
       "      <td>5</td>\n",
       "    </tr>\n",
       "  </tbody>\n",
       "</table>\n",
       "</div>"
      ],
      "text/plain": [
       "   Unnamed: 0                            key  fare_amount  \\\n",
       "0    24238194    2015-05-07 19:52:06.0000003          7.5   \n",
       "1    27835199    2009-07-17 20:04:56.0000002          7.7   \n",
       "2    44984355   2009-08-24 21:45:00.00000061         12.9   \n",
       "3    25894730    2009-06-26 08:22:21.0000001          5.3   \n",
       "4    17610152  2014-08-28 17:47:00.000000188         16.0   \n",
       "5    44470845    2011-02-12 02:27:09.0000006          4.9   \n",
       "6    48725865    2014-10-12 07:04:00.0000002         24.5   \n",
       "\n",
       "           pickup_datetime  pickup_longitude  pickup_latitude  \\\n",
       "0  2015-05-07 19:52:06 UTC        -73.999817        40.738354   \n",
       "1  2009-07-17 20:04:56 UTC        -73.994355        40.728225   \n",
       "2  2009-08-24 21:45:00 UTC        -74.005043        40.740770   \n",
       "3  2009-06-26 08:22:21 UTC        -73.976124        40.790844   \n",
       "4  2014-08-28 17:47:00 UTC        -73.925023        40.744085   \n",
       "5  2011-02-12 02:27:09 UTC        -73.969019        40.755910   \n",
       "6  2014-10-12 07:04:00 UTC        -73.961447        40.693965   \n",
       "\n",
       "   dropoff_longitude  dropoff_latitude  passenger_count  \n",
       "0         -73.999512         40.723217                1  \n",
       "1         -73.994710         40.750325                1  \n",
       "2         -73.962565         40.772647                1  \n",
       "3         -73.965316         40.803349                3  \n",
       "4         -73.973082         40.761247                5  \n",
       "5         -73.969019         40.755910                1  \n",
       "6         -73.871195         40.774297                5  "
      ]
     },
     "execution_count": 3,
     "metadata": {},
     "output_type": "execute_result"
    }
   ],
   "source": [
    "# df = pd.read_csv(\"uber.csv\")\n",
    "df =  pd.read_csv('uber.csv')\n",
    "df.head(7)"
   ]
  },
  {
   "cell_type": "code",
   "execution_count": 57,
   "id": "00abf92e",
   "metadata": {},
   "outputs": [
    {
     "data": {
      "text/html": [
       "<div>\n",
       "<style scoped>\n",
       "    .dataframe tbody tr th:only-of-type {\n",
       "        vertical-align: middle;\n",
       "    }\n",
       "\n",
       "    .dataframe tbody tr th {\n",
       "        vertical-align: top;\n",
       "    }\n",
       "\n",
       "    .dataframe thead th {\n",
       "        text-align: right;\n",
       "    }\n",
       "</style>\n",
       "<table border=\"1\" class=\"dataframe\">\n",
       "  <thead>\n",
       "    <tr style=\"text-align: right;\">\n",
       "      <th></th>\n",
       "      <th>Unnamed: 0</th>\n",
       "      <th>fare_amount</th>\n",
       "      <th>pickup_longitude</th>\n",
       "      <th>pickup_latitude</th>\n",
       "      <th>dropoff_longitude</th>\n",
       "      <th>dropoff_latitude</th>\n",
       "      <th>passenger_count</th>\n",
       "    </tr>\n",
       "  </thead>\n",
       "  <tbody>\n",
       "    <tr>\n",
       "      <th>count</th>\n",
       "      <td>2.000000e+05</td>\n",
       "      <td>200000.000000</td>\n",
       "      <td>200000.000000</td>\n",
       "      <td>200000.000000</td>\n",
       "      <td>199999.000000</td>\n",
       "      <td>199999.000000</td>\n",
       "      <td>200000.000000</td>\n",
       "    </tr>\n",
       "    <tr>\n",
       "      <th>mean</th>\n",
       "      <td>2.771250e+07</td>\n",
       "      <td>11.359955</td>\n",
       "      <td>-72.527638</td>\n",
       "      <td>39.935885</td>\n",
       "      <td>-72.525292</td>\n",
       "      <td>39.923890</td>\n",
       "      <td>1.684535</td>\n",
       "    </tr>\n",
       "    <tr>\n",
       "      <th>std</th>\n",
       "      <td>1.601382e+07</td>\n",
       "      <td>9.901776</td>\n",
       "      <td>11.437787</td>\n",
       "      <td>7.720539</td>\n",
       "      <td>13.117408</td>\n",
       "      <td>6.794829</td>\n",
       "      <td>1.385997</td>\n",
       "    </tr>\n",
       "    <tr>\n",
       "      <th>min</th>\n",
       "      <td>1.000000e+00</td>\n",
       "      <td>-52.000000</td>\n",
       "      <td>-1340.648410</td>\n",
       "      <td>-74.015515</td>\n",
       "      <td>-3356.666300</td>\n",
       "      <td>-881.985513</td>\n",
       "      <td>0.000000</td>\n",
       "    </tr>\n",
       "    <tr>\n",
       "      <th>25%</th>\n",
       "      <td>1.382535e+07</td>\n",
       "      <td>6.000000</td>\n",
       "      <td>-73.992065</td>\n",
       "      <td>40.734796</td>\n",
       "      <td>-73.991407</td>\n",
       "      <td>40.733823</td>\n",
       "      <td>1.000000</td>\n",
       "    </tr>\n",
       "    <tr>\n",
       "      <th>50%</th>\n",
       "      <td>2.774550e+07</td>\n",
       "      <td>8.500000</td>\n",
       "      <td>-73.981823</td>\n",
       "      <td>40.752592</td>\n",
       "      <td>-73.980093</td>\n",
       "      <td>40.753042</td>\n",
       "      <td>1.000000</td>\n",
       "    </tr>\n",
       "    <tr>\n",
       "      <th>75%</th>\n",
       "      <td>4.155530e+07</td>\n",
       "      <td>12.500000</td>\n",
       "      <td>-73.967154</td>\n",
       "      <td>40.767158</td>\n",
       "      <td>-73.963658</td>\n",
       "      <td>40.768001</td>\n",
       "      <td>2.000000</td>\n",
       "    </tr>\n",
       "    <tr>\n",
       "      <th>max</th>\n",
       "      <td>5.542357e+07</td>\n",
       "      <td>499.000000</td>\n",
       "      <td>57.418457</td>\n",
       "      <td>1644.421482</td>\n",
       "      <td>1153.572603</td>\n",
       "      <td>872.697628</td>\n",
       "      <td>208.000000</td>\n",
       "    </tr>\n",
       "  </tbody>\n",
       "</table>\n",
       "</div>"
      ],
      "text/plain": [
       "         Unnamed: 0    fare_amount  pickup_longitude  pickup_latitude  \\\n",
       "count  2.000000e+05  200000.000000     200000.000000    200000.000000   \n",
       "mean   2.771250e+07      11.359955        -72.527638        39.935885   \n",
       "std    1.601382e+07       9.901776         11.437787         7.720539   \n",
       "min    1.000000e+00     -52.000000      -1340.648410       -74.015515   \n",
       "25%    1.382535e+07       6.000000        -73.992065        40.734796   \n",
       "50%    2.774550e+07       8.500000        -73.981823        40.752592   \n",
       "75%    4.155530e+07      12.500000        -73.967154        40.767158   \n",
       "max    5.542357e+07     499.000000         57.418457      1644.421482   \n",
       "\n",
       "       dropoff_longitude  dropoff_latitude  passenger_count  \n",
       "count      199999.000000     199999.000000    200000.000000  \n",
       "mean          -72.525292         39.923890         1.684535  \n",
       "std            13.117408          6.794829         1.385997  \n",
       "min         -3356.666300       -881.985513         0.000000  \n",
       "25%           -73.991407         40.733823         1.000000  \n",
       "50%           -73.980093         40.753042         1.000000  \n",
       "75%           -73.963658         40.768001         2.000000  \n",
       "max          1153.572603        872.697628       208.000000  "
      ]
     },
     "execution_count": 57,
     "metadata": {},
     "output_type": "execute_result"
    }
   ],
   "source": [
    "# custom dframe\n",
    "# dl={'keys':['B','C','B','B','D'],'Gender':['M','F','M','F','M']}\n",
    "# dl=pd.DataFrame(dl)\n",
    "# dl\n",
    "df.describe() \n",
    "#count of non null\n",
    "#mean ,std dev\n",
    "#q1 25% values lie below\n",
    "#median\n",
    "#q3 75%value slie below this\n",
    "#min n max value of col"
   ]
  },
  {
   "cell_type": "code",
   "execution_count": 58,
   "id": "47775667",
   "metadata": {},
   "outputs": [
    {
     "data": {
      "text/plain": [
       "Unnamed: 0           0\n",
       "key                  0\n",
       "fare_amount          0\n",
       "pickup_datetime      0\n",
       "pickup_longitude     0\n",
       "pickup_latitude      0\n",
       "dropoff_longitude    1\n",
       "dropoff_latitude     1\n",
       "passenger_count      0\n",
       "dtype: int64"
      ]
     },
     "execution_count": 58,
     "metadata": {},
     "output_type": "execute_result"
    }
   ],
   "source": [
    "df.isna().sum()"
   ]
  },
  {
   "cell_type": "code",
   "execution_count": 59,
   "id": "446a4c9e",
   "metadata": {},
   "outputs": [
    {
     "data": {
      "text/plain": [
       "(200000, 9)"
      ]
     },
     "execution_count": 59,
     "metadata": {},
     "output_type": "execute_result"
    }
   ],
   "source": [
    "df.shape"
   ]
  },
  {
   "cell_type": "code",
   "execution_count": 60,
   "id": "df01fef1",
   "metadata": {},
   "outputs": [
    {
     "data": {
      "text/plain": [
       "Unnamed: 0             int64\n",
       "key                   object\n",
       "fare_amount          float64\n",
       "pickup_datetime       object\n",
       "pickup_longitude     float64\n",
       "pickup_latitude      float64\n",
       "dropoff_longitude    float64\n",
       "dropoff_latitude     float64\n",
       "passenger_count        int64\n",
       "dtype: object"
      ]
     },
     "execution_count": 60,
     "metadata": {},
     "output_type": "execute_result"
    }
   ],
   "source": [
    "df.dtypes"
   ]
  },
  {
   "cell_type": "code",
   "execution_count": 61,
   "id": "d72f1ebe",
   "metadata": {},
   "outputs": [],
   "source": [
    "df = df.drop(['Unnamed: 0', 'key', 'pickup_datetime'], axis = 1)"
   ]
  },
  {
   "cell_type": "markdown",
   "id": "a0601ea8",
   "metadata": {},
   "source": [
    "### NULL CHECK"
   ]
  },
  {
   "cell_type": "code",
   "execution_count": 62,
   "id": "ed99381d",
   "metadata": {},
   "outputs": [
    {
     "data": {
      "text/plain": [
       "fare_amount          0\n",
       "pickup_longitude     0\n",
       "pickup_latitude      0\n",
       "dropoff_longitude    0\n",
       "dropoff_latitude     0\n",
       "passenger_count      0\n",
       "dtype: int64"
      ]
     },
     "execution_count": 62,
     "metadata": {},
     "output_type": "execute_result"
    }
   ],
   "source": [
    "numeric_col = df.select_dtypes(include=np.number).columns.tolist()\n",
    "# df[numeric_col]=df[numeric_col].fillna(df[numeric_col].mean())\n",
    "df=df.bfill()\n",
    "df=df.ffill()\n",
    "df.isna().sum()\n",
    "# To remove the null values we use this\n",
    "# df.interpolate(inplace=True)"
   ]
  },
  {
   "cell_type": "code",
   "execution_count": 63,
   "id": "951e391f",
   "metadata": {},
   "outputs": [
    {
     "name": "stdout",
     "output_type": "stream",
     "text": [
      "[ 7.5   7.7  12.9  ... 37.2  86.25 89.1 ]\n",
      "length  1244\n"
     ]
    }
   ],
   "source": [
    "v=df['fare_amount'].unique() # unique values present in column\n",
    "print(v)\n",
    "print(\"length \",v.size)"
   ]
  },
  {
   "cell_type": "markdown",
   "id": "3ef8d3f3",
   "metadata": {},
   "source": [
    "### Rename Column"
   ]
  },
  {
   "cell_type": "code",
   "execution_count": 64,
   "id": "fcdecba1",
   "metadata": {},
   "outputs": [
    {
     "data": {
      "text/html": [
       "<div>\n",
       "<style scoped>\n",
       "    .dataframe tbody tr th:only-of-type {\n",
       "        vertical-align: middle;\n",
       "    }\n",
       "\n",
       "    .dataframe tbody tr th {\n",
       "        vertical-align: top;\n",
       "    }\n",
       "\n",
       "    .dataframe thead th {\n",
       "        text-align: right;\n",
       "    }\n",
       "</style>\n",
       "<table border=\"1\" class=\"dataframe\">\n",
       "  <thead>\n",
       "    <tr style=\"text-align: right;\">\n",
       "      <th></th>\n",
       "      <th>fareAmount</th>\n",
       "      <th>pickup_longitude</th>\n",
       "      <th>pickup_latitude</th>\n",
       "      <th>dropoff_longitude</th>\n",
       "      <th>dropoff_latitude</th>\n",
       "      <th>passenger_count</th>\n",
       "    </tr>\n",
       "  </thead>\n",
       "  <tbody>\n",
       "    <tr>\n",
       "      <th>0</th>\n",
       "      <td>7.5</td>\n",
       "      <td>-73.999817</td>\n",
       "      <td>40.738354</td>\n",
       "      <td>-73.999512</td>\n",
       "      <td>40.723217</td>\n",
       "      <td>1</td>\n",
       "    </tr>\n",
       "    <tr>\n",
       "      <th>1</th>\n",
       "      <td>7.7</td>\n",
       "      <td>-73.994355</td>\n",
       "      <td>40.728225</td>\n",
       "      <td>-73.994710</td>\n",
       "      <td>40.750325</td>\n",
       "      <td>1</td>\n",
       "    </tr>\n",
       "    <tr>\n",
       "      <th>2</th>\n",
       "      <td>12.9</td>\n",
       "      <td>-74.005043</td>\n",
       "      <td>40.740770</td>\n",
       "      <td>-73.962565</td>\n",
       "      <td>40.772647</td>\n",
       "      <td>1</td>\n",
       "    </tr>\n",
       "    <tr>\n",
       "      <th>3</th>\n",
       "      <td>5.3</td>\n",
       "      <td>-73.976124</td>\n",
       "      <td>40.790844</td>\n",
       "      <td>-73.965316</td>\n",
       "      <td>40.803349</td>\n",
       "      <td>3</td>\n",
       "    </tr>\n",
       "    <tr>\n",
       "      <th>4</th>\n",
       "      <td>16.0</td>\n",
       "      <td>-73.925023</td>\n",
       "      <td>40.744085</td>\n",
       "      <td>-73.973082</td>\n",
       "      <td>40.761247</td>\n",
       "      <td>5</td>\n",
       "    </tr>\n",
       "    <tr>\n",
       "      <th>...</th>\n",
       "      <td>...</td>\n",
       "      <td>...</td>\n",
       "      <td>...</td>\n",
       "      <td>...</td>\n",
       "      <td>...</td>\n",
       "      <td>...</td>\n",
       "    </tr>\n",
       "    <tr>\n",
       "      <th>199995</th>\n",
       "      <td>3.0</td>\n",
       "      <td>-73.987042</td>\n",
       "      <td>40.739367</td>\n",
       "      <td>-73.986525</td>\n",
       "      <td>40.740297</td>\n",
       "      <td>1</td>\n",
       "    </tr>\n",
       "    <tr>\n",
       "      <th>199996</th>\n",
       "      <td>7.5</td>\n",
       "      <td>-73.984722</td>\n",
       "      <td>40.736837</td>\n",
       "      <td>-74.006672</td>\n",
       "      <td>40.739620</td>\n",
       "      <td>1</td>\n",
       "    </tr>\n",
       "    <tr>\n",
       "      <th>199997</th>\n",
       "      <td>30.9</td>\n",
       "      <td>-73.986017</td>\n",
       "      <td>40.756487</td>\n",
       "      <td>-73.858957</td>\n",
       "      <td>40.692588</td>\n",
       "      <td>2</td>\n",
       "    </tr>\n",
       "    <tr>\n",
       "      <th>199998</th>\n",
       "      <td>14.5</td>\n",
       "      <td>-73.997124</td>\n",
       "      <td>40.725452</td>\n",
       "      <td>-73.983215</td>\n",
       "      <td>40.695415</td>\n",
       "      <td>1</td>\n",
       "    </tr>\n",
       "    <tr>\n",
       "      <th>199999</th>\n",
       "      <td>14.1</td>\n",
       "      <td>-73.984395</td>\n",
       "      <td>40.720077</td>\n",
       "      <td>-73.985508</td>\n",
       "      <td>40.768793</td>\n",
       "      <td>1</td>\n",
       "    </tr>\n",
       "  </tbody>\n",
       "</table>\n",
       "<p>200000 rows × 6 columns</p>\n",
       "</div>"
      ],
      "text/plain": [
       "        fareAmount  pickup_longitude  pickup_latitude  dropoff_longitude  \\\n",
       "0              7.5        -73.999817        40.738354         -73.999512   \n",
       "1              7.7        -73.994355        40.728225         -73.994710   \n",
       "2             12.9        -74.005043        40.740770         -73.962565   \n",
       "3              5.3        -73.976124        40.790844         -73.965316   \n",
       "4             16.0        -73.925023        40.744085         -73.973082   \n",
       "...            ...               ...              ...                ...   \n",
       "199995         3.0        -73.987042        40.739367         -73.986525   \n",
       "199996         7.5        -73.984722        40.736837         -74.006672   \n",
       "199997        30.9        -73.986017        40.756487         -73.858957   \n",
       "199998        14.5        -73.997124        40.725452         -73.983215   \n",
       "199999        14.1        -73.984395        40.720077         -73.985508   \n",
       "\n",
       "        dropoff_latitude  passenger_count  \n",
       "0              40.723217                1  \n",
       "1              40.750325                1  \n",
       "2              40.772647                1  \n",
       "3              40.803349                3  \n",
       "4              40.761247                5  \n",
       "...                  ...              ...  \n",
       "199995         40.740297                1  \n",
       "199996         40.739620                1  \n",
       "199997         40.692588                2  \n",
       "199998         40.695415                1  \n",
       "199999         40.768793                1  \n",
       "\n",
       "[200000 rows x 6 columns]"
      ]
     },
     "execution_count": 64,
     "metadata": {},
     "output_type": "execute_result"
    }
   ],
   "source": [
    "#rename a column\n",
    "df.rename(columns={'fare_amount':'fareAmount'},inplace = True)  #note syntax :\n",
    "# df['New_Edu']=df['Education']\n",
    "# df.drop(['Education'],axis=1,inplace=True)\n",
    "df"
   ]
  },
  {
   "cell_type": "markdown",
   "id": "c2c4df62",
   "metadata": {},
   "source": [
    "## Part 2 OUTLINERS\n",
    "OUTLINERS CHECK AND TECHNIQUES TO DEAL WITH THEM\n",
    "\n",
    "Outliners are those data points that are distant from all other observations and lie outside all other distribution\n",
    "\n",
    "1. First way to do is Z-score (x-U/σ) method, there u is the central value, all values that lie after 3rd deviation are considered as outliners\n",
    "\n",
    "2. IQR - inter quartile range all values after 1.5 times of interquartile range ie above 3rd and below 1\n",
    "\n",
    "3. box plot\n",
    "\n",
    "4. Using scatter points\n",
    "\n",
    "1-Z-score detection\n",
    "z=(dataPoint - mean /std-deviation)"
   ]
  },
  {
   "cell_type": "code",
   "execution_count": 65,
   "id": "c91ed84e",
   "metadata": {},
   "outputs": [
    {
     "data": {
      "text/plain": [
       "array([[<Axes: title={'center': 'fareAmount'}>,\n",
       "        <Axes: title={'center': 'pickup_longitude'}>],\n",
       "       [<Axes: title={'center': 'pickup_latitude'}>,\n",
       "        <Axes: title={'center': 'dropoff_longitude'}>],\n",
       "       [<Axes: title={'center': 'dropoff_latitude'}>,\n",
       "        <Axes: title={'center': 'passenger_count'}>]], dtype=object)"
      ]
     },
     "execution_count": 65,
     "metadata": {},
     "output_type": "execute_result"
    },
    {
     "data": {
      "image/png": "[encoded data removed]",
      "text/plain": [
       "<Figure size 640x480 with 6 Axes>"
      ]
     },
     "metadata": {},
     "output_type": "display_data"
    }
   ],
   "source": [
    "df.hist()"
   ]
  },
  {
   "cell_type": "code",
   "execution_count": 66,
   "id": "ed01cdc1",
   "metadata": {},
   "outputs": [],
   "source": [
    "# z = np.abs(stats.zscore(df['pickup_longitude']))\n",
    "# z"
   ]
  },
  {
   "cell_type": "code",
   "execution_count": 67,
   "id": "9f41d9a9",
   "metadata": {},
   "outputs": [],
   "source": [
    "# #Outliner detection  \n",
    "# arr = np.where(z>3)[0]  \n",
    "# # arr has only the indices where it has z>3 in a list form\n",
    "# print(arr)\n",
    "# print(\"total outliners in it \",len(arr))\n",
    "# res=df.iloc[arr]\n",
    "# res"
   ]
  },
  {
   "cell_type": "code",
   "execution_count": 68,
   "id": "d011dd25",
   "metadata": {},
   "outputs": [],
   "source": [
    "# # remove outliners by below command\n",
    "# df_no_outliers = df[(z <= 3)] #for a new column\n",
    "# # df=df[z<=3] # changes in same column\n",
    "# df_no_outliers"
   ]
  },
  {
   "cell_type": "markdown",
   "id": "a9c9bd7c",
   "metadata": {},
   "source": [
    "## IQR inter quartile range\n",
    "the concepts of Q1 (the first quartile), Q3 (the third quartile), and the Interquartile Range (IQR) work:\n",
    "\n",
    "Quartiles (Q1, Q3):\n",
    "\n",
    "1. Q1 (First Quartile): It is the median of the lower half of the dataset. It represents the value below which 25% of the data falls.\n",
    "2. Q3 (Third Quartile): It is the median of the upper half of the dataset. It represents the value below which 75% of the data falls.\n",
    "### Interquartile Range (IQR):\n",
    "1. The IQR is a measure of statistical dispersion, or in simple terms, it's the range in which the middle 50% of the data values lie.\n",
    "2. Mathematically, IQR is calculated as the difference between Q3 and Q1: IQR = Q3 - Q1.\n",
    "3. The IQR is used in detecting outliers. According to the IQR rule, values outside the range of Q1 - 1.5 * IQR to Q3 + 1.5 * IQR are considered potential outliers."
   ]
  },
  {
   "cell_type": "code",
   "execution_count": 69,
   "id": "d1c90b20",
   "metadata": {},
   "outputs": [
    {
     "name": "stdout",
     "output_type": "stream",
     "text": [
      "Q1: 6.0\n",
      "Q3: 12.5\n",
      "IQR: 6.5\n"
     ]
    }
   ],
   "source": [
    "# IQR \n",
    "# Calculate the first quartile (Q1) and third quartile (Q3) for 'fare_amount'\n",
    "Q1 = df['fareAmount'].quantile(0.25)\n",
    "Q3 = np.percentile(df['fareAmount'], 75, interpolation='midpoint')\n",
    "\n",
    "# Calculate the Interquartile Range (IQR)\n",
    "IQR = Q3 - Q1\n",
    "\n",
    "# Print the results\n",
    "print(\"Q1:\", Q1)\n",
    "print(\"Q3:\", Q3)\n",
    "print(\"IQR:\", IQR)"
   ]
  },
  {
   "cell_type": "code",
   "execution_count": 70,
   "id": "f097327c",
   "metadata": {},
   "outputs": [
    {
     "data": {
      "text/plain": [
       "<Axes: ylabel='Frequency'>"
      ]
     },
     "execution_count": 70,
     "metadata": {},
     "output_type": "execute_result"
    },
    {
     "data": {
      "image/png": "[encoded data removed]",
      "text/plain": [
       "<Figure size 640x480 with 1 Axes>"
      ]
     },
     "metadata": {},
     "output_type": "display_data"
    }
   ],
   "source": [
    "# # Above Upper bound\n",
    "# upper = df['pickup_longitude'] >= (Q3+1.5*IQR)\n",
    " \n",
    "# print(\"Upper bound:\",Q3+1.5*IQR)\n",
    "# print(np.where(upper))\n",
    " \n",
    "# # Below Lower bound\n",
    "# lower = df['pickup_longitude'] <= (Q1-1.5*IQR)\n",
    "# print(\"Lower bound:\", Q1-1.5*IQR)\n",
    "# print(np.where(lower))\n",
    "# # These are the outliers combining Upper Bounded Array and Lowe Bounded Array\n",
    "# Remove outliers using IQR\n",
    "df_new = df[(df['fareAmount'] <= (Q3+1.5*IQR)) & (df['fareAmount'] >= (Q1-1.5*IQR))]\n",
    "df_new.plot(kind='hist', y='fareAmount')  # Almost normal"
   ]
  },
  {
   "cell_type": "code",
   "execution_count": 71,
   "id": "be2aebca",
   "metadata": {},
   "outputs": [
    {
     "data": {
      "text/plain": [
       "<Axes: >"
      ]
     },
     "execution_count": 71,
     "metadata": {},
     "output_type": "execute_result"
    },
    {
     "data": {
      "image/png": "[encoded data removed]",
      "text/plain": [
       "<Figure size 640x480 with 1 Axes>"
      ]
     },
     "metadata": {},
     "output_type": "display_data"
    }
   ],
   "source": [
    "sns.boxplot(df['fareAmount'])"
   ]
  },
  {
   "cell_type": "code",
   "execution_count": 72,
   "id": "d8d2b619",
   "metadata": {},
   "outputs": [
    {
     "data": {
      "text/plain": [
       "<Axes: >"
      ]
     },
     "execution_count": 72,
     "metadata": {},
     "output_type": "execute_result"
    },
    {
     "data": {
      "image/png": "[encoded data removed]",
      "text/plain": [
       "<Figure size 640x480 with 2 Axes>"
      ]
     },
     "metadata": {},
     "output_type": "display_data"
    }
   ],
   "source": [
    "corr = df.corr()\n",
    "sns.heatmap(corr, annot=True)"
   ]
  },
  {
   "cell_type": "markdown",
   "id": "8b3f65e3",
   "metadata": {},
   "source": [
    "## train test split"
   ]
  },
  {
   "cell_type": "code",
   "execution_count": 73,
   "id": "fbe9839f",
   "metadata": {},
   "outputs": [],
   "source": [
    "# Train Test Split\n",
    "from sklearn.model_selection import train_test_split\n",
    "X = df.drop(['fareAmount'], axis=1)\n",
    "y = df['fareAmount']\n",
    "\n",
    "X_train, x_test, y_train, y_test = train_test_split(X, y)"
   ]
  },
  {
   "cell_type": "code",
   "execution_count": 74,
   "id": "71412862",
   "metadata": {},
   "outputs": [],
   "source": [
    "from sklearn.linear_model import LinearRegression\n",
    "model = LinearRegression()\n",
    "model.fit(X_train, y_train)\n",
    "y_pred = model.predict(x_test)"
   ]
  },
  {
   "cell_type": "code",
   "execution_count": 75,
   "id": "c1b9138b",
   "metadata": {},
   "outputs": [
    {
     "name": "stdout",
     "output_type": "stream",
     "text": [
      "RMSE ->  9.707925707961492\n",
      "R2 ->  -4.1053101947241544e-05\n"
     ]
    }
   ],
   "source": [
    "from sklearn.metrics import mean_squared_error, r2_score\n",
    "RMSE = np.sqrt(mean_squared_error(y_test, y_pred))\n",
    "print(\"RMSE -> \", RMSE)\n",
    "R2 = r2_score(y_test, y_pred)\n",
    "print(\"R2 -> \", R2)\n",
    "#You want RMSE to be as low as possible, ideally close to zero.\n",
    "# An R² score close to 1 means the model explains most of the variance in the target variable (e.g., fareAmount). \n",
    "# Conversely, an R² score near 0 or negative indicates a poor fit."
   ]
  },
  {
   "cell_type": "code",
   "execution_count": 76,
   "id": "aeefcbe7",
   "metadata": {},
   "outputs": [],
   "source": [
    "from sklearn.ensemble import RandomForestRegressor\n",
    "model = RandomForestRegressor()\n",
    "model.fit(X_train, y_train)\n",
    "y_pred = model.predict(x_test)"
   ]
  },
  {
   "cell_type": "code",
   "execution_count": 77,
   "id": "03b8da23",
   "metadata": {},
   "outputs": [
    {
     "name": "stdout",
     "output_type": "stream",
     "text": [
      "RMSE ->  4.741668963663677\n",
      "R2 ->  0.7614236434262897\n"
     ]
    }
   ],
   "source": [
    "from sklearn.metrics import mean_squared_error, r2_score\n",
    "RMSE = np.sqrt(mean_squared_error(y_test, y_pred))\n",
    "print(\"RMSE -> \", RMSE)\n",
    "R2 = r2_score(y_test, y_pred)\n",
    "print(\"R2 -> \", R2)"
   ]
  }
 ],
 "metadata": {
  "kernelspec": {
   "display_name": "Python 3 (ipykernel)",
   "language": "python",
   "name": "python3"
  },
  "language_info": {
   "codemirror_mode": {
    "name": "ipython",
    "version": 3
   },
   "file_extension": ".py",
   "mimetype": "text/x-python",
   "name": "python",
   "nbconvert_exporter": "python",
   "pygments_lexer": "ipython3",
   "version": "3.11.3"
  }
 },
 "nbformat": 4,
 "nbformat_minor": 5
}
