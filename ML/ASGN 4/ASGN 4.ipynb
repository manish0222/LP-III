{
 "cells": [
  {
   "cell_type": "markdown",
   "id": "5c1ac098",
   "metadata": {},
   "source": [
    "### Implement Gradient Descent Algorithm to find the local minima of a function.\n",
    "For example, find the local minima of the function y=(x+3)² starting from the point\n",
    "x=2"
   ]
  },
  {
   "cell_type": "markdown",
   "id": "a9ddd8ba",
   "metadata": {},
   "source": [
    "x_new =x−α⋅f(X)\n",
    "x: The current value of x=2\n",
    "\n",
    ", starting with the initial value x=2.\n",
    "\n",
    "alpha (learning rate): Controls the step size. Choosing an appropriate value (e.g., 0.1) is crucial for convergence.\n",
    "\n",
    "precision: Defines the stopping criterion when changes in 𝑥\n",
    "\n",
    "x become very small (close to zero).\n",
    "\n",
    "max_iterations: Limits the number of steps to prevent an infinite loop."
   ]
  },
  {
   "cell_type": "code",
   "execution_count": 12,
   "id": "a56fd1dd",
   "metadata": {},
   "outputs": [],
   "source": [
    "# Starting values and parameters\n",
    "start_x = 2               # Initial x value\n",
    "rate = 0.01               # Learning rate (alpha), controls step size\n",
    "precision = 0.00001       # Convergence threshold\n",
    "step_size = 1             # Initial step size, arbitrarily large to start the loop\n",
    "max_iteration = 10000     # Maximum iterations to prevent infinite loop\n",
    "iterations = 0            # Initialize iteration counter\n",
    "\n",
    "# Derivative of the function f(x) = (x + 3)^2 is f'(x) = 2 * (x + 3)\n",
    "df = lambda x: 2 * (x + 3)\n",
    "\n",
    "## function is x=x-(rate*f'(x)) \n",
    "\n",
    "# To store the values of x after each iteration\n",
    "gd = []\n"
   ]
  },
  {
   "cell_type": "code",
   "execution_count": 16,
   "id": "17f05ce8",
   "metadata": {},
   "outputs": [],
   "source": [
    "# Gradient Descent Loop\n",
    "while step_size > precision and iterations < max_iteration:\n",
    "    prev = start_x                # Store the current x value (previous x)\n",
    "    start_x -= rate * df(prev)    # Update x using the gradient descent formula\n",
    "    step_size = abs(prev - start_x)  # Calculate the absolute step size\n",
    "    iterations += 1               # Increment iteration count\n",
    "    \n",
    "    # Print the iteration number and the current value of x\n",
    "#     print(f\"Iteration: {iterations}, x value: {start_x} and stepsize is {step_size}\")\n",
    "    \n",
    "    # Append the current x value to gd for tracking\n",
    "    gd.append(start_x)"
   ]
  },
  {
   "cell_type": "code",
   "execution_count": 14,
   "id": "9069e54f",
   "metadata": {},
   "outputs": [
    {
     "name": "stdout",
     "output_type": "stream",
     "text": [
      "Local minimum at x ≈ -2.999511025067055\n",
      "Function value at this point f(x) ≈ 2.3909648504843363e-07\n",
      "Total iterations: 457\n"
     ]
    }
   ],
   "source": [
    "# Output results after loop finishes\n",
    "print(f\"Local minimum at x ≈ {start_x}\")\n",
    "print(f\"Function value at this point f(x) ≈ {(start_x + 3) ** 2}\")\n",
    "print(f\"Total iterations: {iterations}\")"
   ]
  },
  {
   "cell_type": "code",
   "execution_count": 15,
   "id": "2e4b6430",
   "metadata": {},
   "outputs": [
    {
     "data": {
      "text/plain": [
       "<Axes: >"
      ]
     },
     "execution_count": 15,
     "metadata": {},
     "output_type": "execute_result"
    },
    {
     "data": {
      "image/png": "[encoded data removed]",
      "text/plain": [
       "<Figure size 640x480 with 1 Axes>"
      ]
     },
     "metadata": {},
     "output_type": "display_data"
    }
   ],
   "source": [
    "import seaborn as sns\n",
    "sns.scatterplot(gd)"
   ]
  }
 ],
 "metadata": {
  "kernelspec": {
   "display_name": "Python 3 (ipykernel)",
   "language": "python",
   "name": "python3"
  },
  "language_info": {
   "codemirror_mode": {
    "name": "ipython",
    "version": 3
   },
   "file_extension": ".py",
   "mimetype": "text/x-python",
   "name": "python",
   "nbconvert_exporter": "python",
   "pygments_lexer": "ipython3",
   "version": "3.11.3"
  }
 },
 "nbformat": 4,
 "nbformat_minor": 5
}
